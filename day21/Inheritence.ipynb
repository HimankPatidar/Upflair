{
 "cells": [
  {
   "cell_type": "code",
   "execution_count": 16,
   "metadata": {},
   "outputs": [
    {
     "name": "stdout",
     "output_type": "stream",
     "text": [
      "Father_name :  Rajesh\n",
      "Father_age :  54\n",
      "Hi I am Radhey\n",
      "i am 23 Year old\n"
     ]
    }
   ],
   "source": [
    "class Father :\n",
    "    def __init__(self, Father_name, Father_age) :\n",
    "        self.Father_name = Father_name\n",
    "        self.Father_age = Father_age\n",
    "\n",
    "    def show(self) :\n",
    "        print(\"Father_name : \", self.Father_name)\n",
    "        print(\"Father_age : \", self.Father_age)\n",
    "\n",
    "class Son(Father) :\n",
    "\n",
    "    def Son_hii(self) :\n",
    "        print(\"Hi I am Radhey\")\n",
    "        print(\"i am 23 Year old\")\n",
    "\n",
    "\n",
    "son_obj = Son(\"Rajesh\", 54)\n",
    "son_obj.show()\n",
    "son_obj.Son_hii()\n",
    "\n"
   ]
  }
 ],
 "metadata": {
  "kernelspec": {
   "display_name": "Python 3",
   "language": "python",
   "name": "python3"
  },
  "language_info": {
   "codemirror_mode": {
    "name": "ipython",
    "version": 3
   },
   "file_extension": ".py",
   "mimetype": "text/x-python",
   "name": "python",
   "nbconvert_exporter": "python",
   "pygments_lexer": "ipython3",
   "version": "3.12.3"
  }
 },
 "nbformat": 4,
 "nbformat_minor": 2
}
