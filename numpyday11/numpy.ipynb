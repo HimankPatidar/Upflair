{
 "cells": [
  {
   "cell_type": "markdown",
   "metadata": {},
   "source": [
    "Numpy"
   ]
  },
  {
   "cell_type": "code",
   "execution_count": 2,
   "metadata": {},
   "outputs": [],
   "source": [
    "import numpy as np"
   ]
  },
  {
   "cell_type": "code",
   "execution_count": 14,
   "metadata": {},
   "outputs": [
    {
     "name": "stdout",
     "output_type": "stream",
     "text": [
      "['1' '2' '3' '4' '5' '6' '7' '8' '9' '10' 'JECRC' '34' '23.2']\n",
      "['1' '2' '3' '4' '5']\n",
      "['6' '7' '8' '9' '10' 'JECRC']\n",
      "<class 'numpy.ndarray'>\n",
      "<U32\n"
     ]
    }
   ],
   "source": [
    "arr = np.array([1, 2, 3, 4, 5, 6, 7, 8, 9, 10, \"JECRC\" , 34, 23.2])\n",
    "print(arr)\n",
    "print(arr[0:5])\n",
    "print(arr[5:11])\n",
    "print(type(arr))\n",
    "print(arr.dtype)\n"
   ]
  },
  {
   "cell_type": "code",
   "execution_count": 29,
   "metadata": {},
   "outputs": [
    {
     "name": "stdout",
     "output_type": "stream",
     "text": [
      "['23.2' '34' 'JECRC' '10' '9' '8' '7' '6' '5' '4' '3' '2' '1']\n",
      "['9' '10' 'JECRC']\n",
      "10\n"
     ]
    }
   ],
   "source": [
    "print(arr[::-1])\n",
    "print(arr[-5 : -2])\n",
    "print(arr[9])"
   ]
  },
  {
   "cell_type": "code",
   "execution_count": 32,
   "metadata": {},
   "outputs": [
    {
     "name": "stdout",
     "output_type": "stream",
     "text": [
      "['23.2' '34']\n"
     ]
    }
   ],
   "source": [
    "print(arr[-1:-3 : -1])"
   ]
  },
  {
   "cell_type": "code",
   "execution_count": 34,
   "metadata": {},
   "outputs": [
    {
     "data": {
      "text/plain": [
       "1"
      ]
     },
     "execution_count": 34,
     "metadata": {},
     "output_type": "execute_result"
    }
   ],
   "source": [
    "arr.ndim  # 1D array = ndim"
   ]
  },
  {
   "cell_type": "code",
   "execution_count": 38,
   "metadata": {},
   "outputs": [
    {
     "data": {
      "text/plain": [
       "array([ 0,  1,  2,  3,  4,  5,  6,  7,  8,  9, 10, 11, 12, 13, 14, 15, 16,\n",
       "       17, 18, 19, 20, 21, 22])"
      ]
     },
     "execution_count": 38,
     "metadata": {},
     "output_type": "execute_result"
    }
   ],
   "source": [
    "np.arange(23)\n"
   ]
  },
  {
   "cell_type": "code",
   "execution_count": 39,
   "metadata": {},
   "outputs": [
    {
     "data": {
      "text/plain": [
       "array([ 1,  3,  5,  7,  9, 11, 13, 15, 17, 19, 21])"
      ]
     },
     "execution_count": 39,
     "metadata": {},
     "output_type": "execute_result"
    }
   ],
   "source": [
    "np.arange(1, 23, 2)"
   ]
  },
  {
   "cell_type": "code",
   "execution_count": 40,
   "metadata": {},
   "outputs": [
    {
     "data": {
      "text/plain": [
       "array([0., 0., 0., 0., 0., 0., 0., 0., 0., 0., 0., 0.])"
      ]
     },
     "execution_count": 40,
     "metadata": {},
     "output_type": "execute_result"
    }
   ],
   "source": [
    "np.zeros(12)"
   ]
  },
  {
   "cell_type": "code",
   "execution_count": 41,
   "metadata": {},
   "outputs": [
    {
     "data": {
      "text/plain": [
       "array([1., 1., 1., 1., 1., 1., 1., 1., 1., 1., 1., 1.])"
      ]
     },
     "execution_count": 41,
     "metadata": {},
     "output_type": "execute_result"
    }
   ],
   "source": [
    "np.ones(12)"
   ]
  },
  {
   "cell_type": "code",
   "execution_count": 43,
   "metadata": {},
   "outputs": [
    {
     "data": {
      "text/plain": [
       "array([1.        , 1.44444444, 1.88888889, 2.33333333, 2.77777778,\n",
       "       3.22222222, 3.66666667, 4.11111111, 4.55555556, 5.        ])"
      ]
     },
     "execution_count": 43,
     "metadata": {},
     "output_type": "execute_result"
    }
   ],
   "source": [
    "np.linspace(1,5,10)  # 1 to 5 in 10 parts "
   ]
  },
  {
   "cell_type": "markdown",
   "metadata": {},
   "source": [
    "2D ARRAY"
   ]
  },
  {
   "cell_type": "code",
   "execution_count": 44,
   "metadata": {},
   "outputs": [
    {
     "name": "stdout",
     "output_type": "stream",
     "text": [
      "[[1 2 3]\n",
      " [4 5 6]\n",
      " [7 8 9]]\n"
     ]
    }
   ],
   "source": [
    "arr = np.array([[1,2,3],[4,5,6],[7,8,9]])\n",
    "print(arr)\n"
   ]
  },
  {
   "cell_type": "code",
   "execution_count": 45,
   "metadata": {},
   "outputs": [
    {
     "data": {
      "text/plain": [
       "2"
      ]
     },
     "execution_count": 45,
     "metadata": {},
     "output_type": "execute_result"
    }
   ],
   "source": [
    "arr.ndim # 2D array = ndim"
   ]
  },
  {
   "cell_type": "code",
   "execution_count": 46,
   "metadata": {},
   "outputs": [
    {
     "data": {
      "text/plain": [
       "(3, 3)"
      ]
     },
     "execution_count": 46,
     "metadata": {},
     "output_type": "execute_result"
    }
   ],
   "source": [
    "arr.shape"
   ]
  },
  {
   "cell_type": "code",
   "execution_count": 52,
   "metadata": {},
   "outputs": [
    {
     "data": {
      "text/plain": [
       "array([[1, 2, 3],\n",
       "       [4, 5, 6]])"
      ]
     },
     "execution_count": 52,
     "metadata": {},
     "output_type": "execute_result"
    }
   ],
   "source": [
    "arr[0:2]"
   ]
  },
  {
   "cell_type": "code",
   "execution_count": 56,
   "metadata": {},
   "outputs": [
    {
     "name": "stdout",
     "output_type": "stream",
     "text": [
      "[[5 6]\n",
      " [8 9]]\n"
     ]
    }
   ],
   "source": [
    "# [row,col]  [start:end, start:end]\n",
    "print(arr[ 1:3, 1:3])"
   ]
  },
  {
   "cell_type": "code",
   "execution_count": 58,
   "metadata": {},
   "outputs": [
    {
     "data": {
      "text/plain": [
       "9"
      ]
     },
     "execution_count": 58,
     "metadata": {},
     "output_type": "execute_result"
    }
   ],
   "source": [
    "arr[-1, -1]\n",
    "arr[2][3]"
   ]
  },
  {
   "cell_type": "code",
   "execution_count": 60,
   "metadata": {},
   "outputs": [
    {
     "data": {
      "text/plain": [
       "array([ 0,  1,  2,  3,  4,  5,  6,  7,  8,  9, 10, 11, 12, 13, 14, 15, 16,\n",
       "       17, 18, 19, 20, 21, 22, 23, 24, 25, 26, 27, 28, 29, 30, 31, 32, 33,\n",
       "       34, 35, 36, 37, 38, 39, 40, 41, 42, 43, 44, 45, 46, 47, 48, 49, 50,\n",
       "       51, 52, 53, 54, 55, 56, 57, 58, 59])"
      ]
     },
     "execution_count": 60,
     "metadata": {},
     "output_type": "execute_result"
    }
   ],
   "source": [
    "np.arange(60)"
   ]
  },
  {
   "cell_type": "code",
   "execution_count": 63,
   "metadata": {},
   "outputs": [
    {
     "data": {
      "text/plain": [
       "array([[ 0,  1,  2,  3,  4],\n",
       "       [ 5,  6,  7,  8,  9],\n",
       "       [10, 11, 12, 13, 14],\n",
       "       [15, 16, 17, 18, 19],\n",
       "       [20, 21, 22, 23, 24],\n",
       "       [25, 26, 27, 28, 29],\n",
       "       [30, 31, 32, 33, 34],\n",
       "       [35, 36, 37, 38, 39],\n",
       "       [40, 41, 42, 43, 44],\n",
       "       [45, 46, 47, 48, 49],\n",
       "       [50, 51, 52, 53, 54],\n",
       "       [55, 56, 57, 58, 59]])"
      ]
     },
     "execution_count": 63,
     "metadata": {},
     "output_type": "execute_result"
    }
   ],
   "source": [
    "np.arange(60).reshape(12,5)"
   ]
  },
  {
   "cell_type": "code",
   "execution_count": 59,
   "metadata": {},
   "outputs": [
    {
     "data": {
      "text/plain": [
       "array([[ 1,  2,  3,  4],\n",
       "       [ 5,  6,  7,  8],\n",
       "       [ 9, 10, 11, 12]])"
      ]
     },
     "execution_count": 59,
     "metadata": {},
     "output_type": "execute_result"
    }
   ],
   "source": [
    "np.arange(1, 13).reshape(3,4)"
   ]
  },
  {
   "cell_type": "code",
   "execution_count": 66,
   "metadata": {},
   "outputs": [
    {
     "data": {
      "text/plain": [
       "array([[[ 0],\n",
       "        [ 1],\n",
       "        [ 2],\n",
       "        [ 3],\n",
       "        [ 4]],\n",
       "\n",
       "       [[ 5],\n",
       "        [ 6],\n",
       "        [ 7],\n",
       "        [ 8],\n",
       "        [ 9]],\n",
       "\n",
       "       [[10],\n",
       "        [11],\n",
       "        [12],\n",
       "        [13],\n",
       "        [14]],\n",
       "\n",
       "       [[15],\n",
       "        [16],\n",
       "        [17],\n",
       "        [18],\n",
       "        [19]],\n",
       "\n",
       "       [[20],\n",
       "        [21],\n",
       "        [22],\n",
       "        [23],\n",
       "        [24]],\n",
       "\n",
       "       [[25],\n",
       "        [26],\n",
       "        [27],\n",
       "        [28],\n",
       "        [29]],\n",
       "\n",
       "       [[30],\n",
       "        [31],\n",
       "        [32],\n",
       "        [33],\n",
       "        [34]],\n",
       "\n",
       "       [[35],\n",
       "        [36],\n",
       "        [37],\n",
       "        [38],\n",
       "        [39]],\n",
       "\n",
       "       [[40],\n",
       "        [41],\n",
       "        [42],\n",
       "        [43],\n",
       "        [44]],\n",
       "\n",
       "       [[45],\n",
       "        [46],\n",
       "        [47],\n",
       "        [48],\n",
       "        [49]],\n",
       "\n",
       "       [[50],\n",
       "        [51],\n",
       "        [52],\n",
       "        [53],\n",
       "        [54]],\n",
       "\n",
       "       [[55],\n",
       "        [56],\n",
       "        [57],\n",
       "        [58],\n",
       "        [59]]])"
      ]
     },
     "execution_count": 66,
     "metadata": {},
     "output_type": "execute_result"
    }
   ],
   "source": [
    "np.arange(60).reshape(12,5,1)"
   ]
  },
  {
   "cell_type": "code",
   "execution_count": 75,
   "metadata": {},
   "outputs": [
    {
     "data": {
      "text/plain": [
       "array([1, 2, 3, 4, 5, 6, 7, 8, 9])"
      ]
     },
     "execution_count": 75,
     "metadata": {},
     "output_type": "execute_result"
    }
   ],
   "source": [
    "# arr.ravel()\n",
    "# arr.flatten()\n"
   ]
  },
  {
   "cell_type": "code",
   "execution_count": 76,
   "metadata": {},
   "outputs": [
    {
     "data": {
      "text/plain": [
       "6"
      ]
     },
     "execution_count": 76,
     "metadata": {},
     "output_type": "execute_result"
    }
   ],
   "source": [
    "np.random.randint(10)"
   ]
  },
  {
   "cell_type": "code",
   "execution_count": 79,
   "metadata": {},
   "outputs": [
    {
     "data": {
      "text/plain": [
       "50"
      ]
     },
     "execution_count": 79,
     "metadata": {},
     "output_type": "execute_result"
    }
   ],
   "source": [
    "np.random.randint(10, 100)"
   ]
  },
  {
   "cell_type": "code",
   "execution_count": 80,
   "metadata": {},
   "outputs": [
    {
     "data": {
      "text/plain": [
       "array([0.44989796, 0.43059415, 0.57807416, 0.7127167 , 0.3122749 ,\n",
       "       0.77016035, 0.87192443, 0.56397224, 0.44507113, 0.06810531])"
      ]
     },
     "execution_count": 80,
     "metadata": {},
     "output_type": "execute_result"
    }
   ],
   "source": [
    "np.random.random(10)"
   ]
  },
  {
   "cell_type": "code",
   "execution_count": 81,
   "metadata": {},
   "outputs": [
    {
     "data": {
      "text/plain": [
       "array([[0.94882761, 0.50394539, 0.34170209],\n",
       "       [0.61052743, 0.36032949, 0.47447388],\n",
       "       [0.56584476, 0.71579477, 0.0313382 ],\n",
       "       [0.43997125, 0.19689882, 0.33664154],\n",
       "       [0.69899775, 0.61425514, 0.57286935],\n",
       "       [0.32271292, 0.48311275, 0.67334368],\n",
       "       [0.79366886, 0.02823633, 0.32258042],\n",
       "       [0.02214973, 0.96025886, 0.83520709],\n",
       "       [0.07329428, 0.66181991, 0.76660164],\n",
       "       [0.05735027, 0.66164681, 0.25190902]])"
      ]
     },
     "execution_count": 81,
     "metadata": {},
     "output_type": "execute_result"
    }
   ],
   "source": [
    "np.random.random((10,3))"
   ]
  },
  {
   "cell_type": "code",
   "execution_count": 84,
   "metadata": {},
   "outputs": [
    {
     "data": {
      "text/plain": [
       "array([2, 4, 1, 2, 1, 3, 2, 2, 1, 2])"
      ]
     },
     "execution_count": 84,
     "metadata": {},
     "output_type": "execute_result"
    }
   ],
   "source": [
    "np.random.randint(1,5,10)"
   ]
  },
  {
   "cell_type": "code",
   "execution_count": 85,
   "metadata": {},
   "outputs": [
    {
     "data": {
      "text/plain": [
       "array([0, 3, 7])"
      ]
     },
     "execution_count": 85,
     "metadata": {},
     "output_type": "execute_result"
    }
   ],
   "source": [
    "np.random.randint((1,5,10))"
   ]
  },
  {
   "cell_type": "code",
   "execution_count": 88,
   "metadata": {},
   "outputs": [
    {
     "name": "stdout",
     "output_type": "stream",
     "text": [
      "[3 4 3 3 3 3 4 3 1 2]\n"
     ]
    }
   ],
   "source": [
    "arr2 = np.random.randint(1,5,10)\n",
    "print(arr2)"
   ]
  },
  {
   "cell_type": "code",
   "execution_count": 89,
   "metadata": {},
   "outputs": [
    {
     "data": {
      "text/plain": [
       "array([3, 4, 3, 3, 3, 3, 4, 3, 1, 2])"
      ]
     },
     "execution_count": 89,
     "metadata": {},
     "output_type": "execute_result"
    }
   ],
   "source": [
    "arr2"
   ]
  },
  {
   "cell_type": "code",
   "execution_count": 90,
   "metadata": {},
   "outputs": [],
   "source": [
    "arr2[-1] = 12"
   ]
  },
  {
   "cell_type": "code",
   "execution_count": 91,
   "metadata": {},
   "outputs": [
    {
     "data": {
      "text/plain": [
       "array([ 3,  4,  3,  3,  3,  3,  4,  3,  1, 12])"
      ]
     },
     "execution_count": 91,
     "metadata": {},
     "output_type": "execute_result"
    }
   ],
   "source": [
    "arr2"
   ]
  },
  {
   "cell_type": "code",
   "execution_count": 92,
   "metadata": {},
   "outputs": [
    {
     "data": {
      "text/plain": [
       "array([ 16, 194, 191,  88, 117, 145, 148, 131,  17, 164, 148, 191,  98,\n",
       "        67,  75, 174,  12,  78,  18, 152, 109,  86,  20, 104, 119,  23,\n",
       "       185,  65, 141, 100,  68,  25,  31,  66, 155,  51,  38,  74, 191,\n",
       "        93, 160, 153,   1,  36,  37,  78, 166, 115,  16,  66, 165,  59,\n",
       "       151,  54,   3, 182,  80, 119, 124, 115, 100,  45,  69, 159, 121,\n",
       "        25,  68,  71, 187, 114, 113, 192, 149,   1,  35, 124,  52,  11,\n",
       "        33, 193,  14,  68, 107, 181,  72, 139,  94,  28, 127, 192,  16,\n",
       "       153,  84,  99, 101, 133, 123, 127,  42,  41,  88, 154,  63,  98,\n",
       "        66, 199,  70,  96, 123, 126, 105, 156,  20, 150,  95, 168,  83,\n",
       "       120, 141, 194, 194, 198,   3,  25, 102, 192,  17,  12,   7,   2,\n",
       "       139, 113, 131,   1, 199, 126,  48,  94,  62,  59,  47, 104, 194,\n",
       "        52, 180,  21, 179, 145, 106, 156, 149,  16, 164,  49,  19,  89,\n",
       "        86,   3,  52, 172, 197, 190, 170, 107,  44, 135,  37,  61,  88,\n",
       "        76, 162,   8,  77,   4, 185, 140, 171, 191,   4, 174, 120,  42,\n",
       "        43, 196, 125, 100,  77, 160, 167, 170,  97,  21,  90,  38,  37,\n",
       "        80,  48, 136,  66,  78])"
      ]
     },
     "execution_count": 92,
     "metadata": {},
     "output_type": "execute_result"
    }
   ],
   "source": [
    "arr3 = np.random.randint(1,200,200)\n",
    "arr3"
   ]
  },
  {
   "cell_type": "code",
   "execution_count": 102,
   "metadata": {},
   "outputs": [
    {
     "name": "stdout",
     "output_type": "stream",
     "text": [
      "16\n",
      "88\n",
      "17\n",
      "98\n",
      "67\n",
      "75\n",
      "12\n",
      "78\n",
      "18\n",
      "86\n",
      "20\n",
      "23\n",
      "65\n",
      "68\n",
      "25\n",
      "31\n",
      "66\n",
      "51\n",
      "38\n",
      "74\n",
      "93\n",
      "1\n",
      "36\n",
      "37\n",
      "78\n",
      "16\n",
      "66\n",
      "59\n",
      "54\n",
      "3\n",
      "80\n",
      "45\n",
      "69\n",
      "25\n",
      "68\n",
      "71\n",
      "1\n",
      "35\n",
      "52\n",
      "11\n",
      "33\n",
      "14\n",
      "68\n",
      "72\n",
      "94\n",
      "28\n",
      "16\n",
      "84\n",
      "99\n",
      "42\n",
      "41\n",
      "88\n",
      "63\n",
      "98\n",
      "66\n",
      "70\n",
      "96\n",
      "20\n",
      "95\n",
      "83\n",
      "3\n",
      "25\n",
      "17\n",
      "12\n",
      "7\n",
      "2\n",
      "1\n",
      "48\n",
      "94\n",
      "62\n",
      "59\n",
      "47\n",
      "52\n",
      "21\n",
      "16\n",
      "49\n",
      "19\n",
      "89\n",
      "86\n",
      "3\n",
      "52\n",
      "44\n",
      "37\n",
      "61\n",
      "88\n",
      "76\n",
      "8\n",
      "77\n",
      "4\n",
      "4\n",
      "42\n",
      "43\n",
      "77\n",
      "97\n",
      "21\n",
      "90\n",
      "38\n",
      "37\n",
      "80\n",
      "48\n",
      "66\n",
      "78\n",
      "Count : 102\n"
     ]
    }
   ],
   "source": [
    "count = 0\n",
    "for i in arr3 :\n",
    "    if (i<100) :\n",
    "        j = i\n",
    "        count = count + 1    \n",
    "        print(j)\n",
    "\n",
    "\n",
    "print(\"Count :\" ,count)"
   ]
  },
  {
   "cell_type": "code",
   "execution_count": 106,
   "metadata": {},
   "outputs": [
    {
     "data": {
      "text/plain": [
       "(102,)"
      ]
     },
     "execution_count": 106,
     "metadata": {},
     "output_type": "execute_result"
    }
   ],
   "source": [
    "arr3[arr3<100].shape"
   ]
  },
  {
   "cell_type": "code",
   "execution_count": null,
   "metadata": {},
   "outputs": [],
   "source": []
  }
 ],
 "metadata": {
  "kernelspec": {
   "display_name": "Python 3",
   "language": "python",
   "name": "python3"
  },
  "language_info": {
   "codemirror_mode": {
    "name": "ipython",
    "version": 3
   },
   "file_extension": ".py",
   "mimetype": "text/x-python",
   "name": "python",
   "nbconvert_exporter": "python",
   "pygments_lexer": "ipython3",
   "version": "3.12.3"
  }
 },
 "nbformat": 4,
 "nbformat_minor": 2
}
