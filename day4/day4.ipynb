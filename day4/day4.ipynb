{
 "cells": [
  {
   "cell_type": "markdown",
   "metadata": {},
   "source": [
    "Nested IF Statement\n"
   ]
  },
  {
   "cell_type": "code",
   "execution_count": 2,
   "metadata": {},
   "outputs": [
    {
     "name": "stdout",
     "output_type": "stream",
     "text": [
      "At least you are not teenager\n",
      "You are young\n"
     ]
    }
   ],
   "source": [
    "age = 19\n",
    "if(age > 18) : \n",
    "    if age>=18 and age<=21:\n",
    "        print(\"At least you are not teenager\")\n",
    "    print(\"You are young\")\n",
    "\n",
    "else :\n",
    "\n",
    "    print(\"You are still teenager\")"
   ]
  },
  {
   "cell_type": "markdown",
   "metadata": {},
   "source": [
    "Virtual ATM"
   ]
  },
  {
   "cell_type": "code",
   "execution_count": 18,
   "metadata": {},
   "outputs": [
    {
     "name": "stdout",
     "output_type": "stream",
     "text": [
      "Enter 1 for check balance \n",
      " Enter 2 for withdraw \n",
      " Enter 3 for deposit \n",
      " Enter 4 for transfer \n",
      " Enter 5 for cancel \n",
      " Enter 6 for exit\n",
      "Your available balance is :  50000\n",
      "Insufficient balance\n"
     ]
    }
   ],
   "source": [
    "account_balance = 50000\n",
    "message = \"Enter 1 for check balance \\n Enter 2 for withdraw \\n Enter 3 for deposit \\n Enter 4 for transfer \\n Enter 5 for cancel \\n Enter 6 for exit\"\n",
    "print(message)\n",
    "\n",
    "\n",
    "task = int(input(\"Enter the number : \"))\n",
    "if task == 1:\n",
    "    print(\"Your account balance is \", account_balance)\n",
    "elif task == 2:\n",
    "    print(\"Your available balance is : \" ,account_balance)\n",
    "    withdraw = int(input(\"Enter the amount to Withdraw : \"))\n",
    "    if(withdraw > account_balance) :\n",
    "        print(\"Insufficient balance\")\n",
    "    else : \n",
    "        print(\"Withdraw is Successful\")\n",
    "        account_balance = account_balance - withdraw\n",
    "        print(\"Your account balance is : \", account_balance)\n",
    "elif task == 3:\n",
    "    print(\"Your available balance is : \" ,account_balance)\n",
    "    deposit = int(input(\"Enter the amount to deposit : \"))\n",
    "    print(\"Deposit is Successful\")\n",
    "    account_balance = account_balance + deposit\n",
    "    print(\"Your account balance is : \", account_balance)\n",
    "elif task == 4:\n",
    "    print(\"Your available balance is : \" ,account_balance)\n",
    "    transfer = int(input(\"Enter the amount to transefer : \"))\n",
    "\n",
    "    if(transfer < account_balance) :\n",
    "        print(\"Transfer is Successful\")\n",
    "    else:\n",
    "        print(\"Insufficent balance\")\n",
    "\n",
    "    account_balance = account_balance - transfer\n",
    "    print(\"Your account balance is : \", account_balance)\n",
    "elif task == 5:\n",
    "    print(\"Transaction is cancelled\")\n",
    "\n",
    "elif task == 6:\n",
    "    print(\"Thank You for visiting us\")\n",
    "else:\n",
    "    print(\"Invalid input\")"
   ]
  },
  {
   "cell_type": "markdown",
   "metadata": {},
   "source": [
    "LOOPING\n"
   ]
  },
  {
   "cell_type": "markdown",
   "metadata": {},
   "source": [
    "For Loop in Range"
   ]
  },
  {
   "cell_type": "code",
   "execution_count": 19,
   "metadata": {},
   "outputs": [
    {
     "name": "stdout",
     "output_type": "stream",
     "text": [
      "1\n",
      "2\n",
      "3\n",
      "4\n",
      "5\n",
      "6\n",
      "7\n",
      "8\n",
      "9\n"
     ]
    }
   ],
   "source": [
    "for i in range(1, 10):\n",
    "    print(i)"
   ]
  },
  {
   "cell_type": "markdown",
   "metadata": {},
   "source": [
    "for loop in range"
   ]
  },
  {
   "cell_type": "code",
   "execution_count": 28,
   "metadata": {},
   "outputs": [
    {
     "name": "stdout",
     "output_type": "stream",
     "text": [
      "1\n",
      "2\n",
      "3\n",
      "4\n",
      "5\n",
      "6\n",
      "7\n",
      "8\n",
      "9\n"
     ]
    }
   ],
   "source": [
    "for list in range(1, 10) :\n",
    "    print(list)"
   ]
  },
  {
   "cell_type": "code",
   "execution_count": 26,
   "metadata": {},
   "outputs": [
    {
     "name": "stdout",
     "output_type": "stream",
     "text": [
      "10\n",
      "20\n",
      "30\n",
      "40\n",
      "50\n",
      "60\n",
      "70\n"
     ]
    }
   ],
   "source": [
    "list2 = [10,20,30,40,50,60,70]\n",
    "for i in list2:\n",
    "    print(i)"
   ]
  },
  {
   "cell_type": "code",
   "execution_count": 30,
   "metadata": {},
   "outputs": [
    {
     "name": "stdout",
     "output_type": "stream",
     "text": [
      "40 is Present\n"
     ]
    }
   ],
   "source": [
    "list3 = [10,20,30,40,50,60,70]\n",
    "for i in list3:\n",
    "    if i == 40:\n",
    "        print(\"40 is Present\")"
   ]
  },
  {
   "cell_type": "markdown",
   "metadata": {},
   "source": [
    "Tuple\n"
   ]
  },
  {
   "cell_type": "code",
   "execution_count": 31,
   "metadata": {},
   "outputs": [
    {
     "name": "stdout",
     "output_type": "stream",
     "text": [
      "40 is Present\n"
     ]
    }
   ],
   "source": [
    "list3 = (10,20,30,40,50,60,70)\n",
    "for i in list3:\n",
    "    if i == 40:\n",
    "        print(\"40 is Present\")"
   ]
  },
  {
   "cell_type": "markdown",
   "metadata": {},
   "source": [
    "String"
   ]
  },
  {
   "cell_type": "code",
   "execution_count": 32,
   "metadata": {},
   "outputs": [
    {
     "name": "stdout",
     "output_type": "stream",
     "text": [
      "A\n",
      "p\n",
      "p\n",
      "l\n",
      "e\n"
     ]
    }
   ],
   "source": [
    "company = \"Apple\"\n",
    "for i in company:\n",
    "    print(i)"
   ]
  },
  {
   "cell_type": "markdown",
   "metadata": {},
   "source": [
    "Dictionary"
   ]
  },
  {
   "cell_type": "code",
   "execution_count": 39,
   "metadata": {},
   "outputs": [
    {
     "name": "stdout",
     "output_type": "stream",
     "text": [
      "Jay\n",
      "20\n",
      "male\n"
     ]
    }
   ],
   "source": [
    "dict1 = {'name': 'Jay', 'age': 20, 'gender': 'male'}\n",
    "\n",
    "for i in dict1.values():\n",
    "    print(i)\n"
   ]
  },
  {
   "cell_type": "code",
   "execution_count": 41,
   "metadata": {},
   "outputs": [
    {
     "name": "stdout",
     "output_type": "stream",
     "text": [
      "Number is not present\n",
      "Number is present\n",
      "Number is not present\n",
      "Number is not present\n",
      "Number is not present\n",
      "Number is not present\n",
      "Number is not present\n",
      "Number is not present\n",
      "Number is not present\n",
      "Number is not present\n",
      "Number is not present\n",
      "Number is not present\n",
      "Number is not present\n"
     ]
    }
   ],
   "source": [
    "list6 = [10,20,30,40,50,60,70,56,80,111,122,133,555]\n",
    "target = int(input(\"Enter the number to search :\"))\n",
    "for i in list6:\n",
    "    if i == target:\n",
    "        print(\"Target is present\")\n",
    "    else :\n",
    "       print(\"Target is not present\")\n"
   ]
  },
  {
   "cell_type": "code",
   "execution_count": 53,
   "metadata": {},
   "outputs": [
    {
     "name": "stdout",
     "output_type": "stream",
     "text": [
      "Count of even numbers: 7\n",
      "Count of odd numbers: 6\n"
     ]
    }
   ],
   "source": [
    "list7 = [11, 14, 15, 16, 17, 18, 19, 21, 22, 24, 25, 26, 62]\n",
    "even = 0\n",
    "odd = 0\n",
    "for i in list7:\n",
    "    if i % 2 == 0:\n",
    "        even += 1\n",
    "    else:\n",
    "        odd += 1\n",
    "\n",
    "print(\"Count of even numbers:\", even)\n",
    "print(\"Count of odd numbers:\", odd)\n"
   ]
  },
  {
   "cell_type": "markdown",
   "metadata": {},
   "source": [
    "While LOOP"
   ]
  },
  {
   "cell_type": "code",
   "execution_count": 68,
   "metadata": {},
   "outputs": [
    {
     "name": "stdout",
     "output_type": "stream",
     "text": [
      "2\n",
      "4\n",
      "6\n",
      "8\n",
      "10\n",
      "12\n",
      "14\n",
      "16\n",
      "18\n",
      "20\n"
     ]
    }
   ],
   "source": [
    "i=1\n",
    "while i<11 :\n",
    "    print(i*2)\n",
    "    i+=1"
   ]
  },
  {
   "cell_type": "code",
   "execution_count": 64,
   "metadata": {},
   "outputs": [
    {
     "name": "stdout",
     "output_type": "stream",
     "text": [
      "Hello World\n"
     ]
    }
   ],
   "source": [
    "condition = True\n",
    "while condition :\n",
    "    print(\"Hello World\")\n",
    "    condition = False\n",
    "    "
   ]
  },
  {
   "cell_type": "markdown",
   "metadata": {},
   "source": [
    "Break"
   ]
  },
  {
   "cell_type": "code",
   "execution_count": 65,
   "metadata": {},
   "outputs": [
    {
     "name": "stdout",
     "output_type": "stream",
     "text": [
      "1\n",
      "2\n",
      "3\n",
      "4\n",
      "5\n",
      "6\n",
      "7\n",
      "8\n",
      "9\n",
      "10\n",
      "11\n",
      "12\n",
      "13\n"
     ]
    }
   ],
   "source": [
    "for i in range(1,21) : \n",
    "    if i == 14 :\n",
    "        break\n",
    "    print(i)\n",
    "    "
   ]
  },
  {
   "cell_type": "markdown",
   "metadata": {},
   "source": [
    "Continue"
   ]
  },
  {
   "cell_type": "code",
   "execution_count": 66,
   "metadata": {},
   "outputs": [
    {
     "name": "stdout",
     "output_type": "stream",
     "text": [
      "1\n",
      "2\n",
      "3\n",
      "4\n",
      "5\n",
      "6\n",
      "7\n",
      "8\n",
      "9\n",
      "10\n",
      "11\n",
      "12\n",
      "13\n",
      "15\n",
      "16\n",
      "17\n",
      "18\n",
      "19\n",
      "20\n"
     ]
    }
   ],
   "source": [
    "for i in range(1,21) : \n",
    "    if i == 14 :\n",
    "        continue\n",
    "    print(i)\n",
    "    "
   ]
  },
  {
   "cell_type": "markdown",
   "metadata": {},
   "source": [
    "find average of a given list,\n",
    "find min and max element of given list,\n"
   ]
  },
  {
   "cell_type": "markdown",
   "metadata": {},
   "source": [
    "Average\n"
   ]
  },
  {
   "cell_type": "code",
   "execution_count": 70,
   "metadata": {},
   "outputs": [
    {
     "name": "stdout",
     "output_type": "stream",
     "text": [
      "Sum of list :  144\n",
      "Average of list :  16.0\n"
     ]
    }
   ],
   "source": [
    "list11 = [12, 13, 14, 15, 16, 17, 18, 19, 20]\n",
    "sum = 0\n",
    "for i in list11 :\n",
    "    sum = sum + i\n",
    "\n",
    "average = sum / len(list11)\n",
    "\n",
    "print(\"Sum of list : \" , sum)\n",
    "print(\"Average of list : \" , average)"
   ]
  },
  {
   "cell_type": "markdown",
   "metadata": {},
   "source": [
    "Min and Max"
   ]
  },
  {
   "cell_type": "code",
   "execution_count": 72,
   "metadata": {},
   "outputs": [
    {
     "name": "stdout",
     "output_type": "stream",
     "text": [
      "Minimum number on list :  11\n",
      "Maximum number on list :  90\n"
     ]
    }
   ],
   "source": [
    "list12 = [11,13,15,21,51,24,90,14,16,17,18,19,20]\n",
    "min = list12[0]\n",
    "max = list12[0]\n",
    "\n",
    "for i in list12 :\n",
    "    if i< min :\n",
    "        min = i\n",
    "\n",
    "    if i>max :\n",
    "        max =i\n",
    "\n",
    "print(\"Minimum number on list : \" , min)\n",
    "print(\"Maximum number on list : \" , max)"
   ]
  }
 ],
 "metadata": {
  "kernelspec": {
   "display_name": "Python 3",
   "language": "python",
   "name": "python3"
  },
  "language_info": {
   "codemirror_mode": {
    "name": "ipython",
    "version": 3
   },
   "file_extension": ".py",
   "mimetype": "text/x-python",
   "name": "python",
   "nbconvert_exporter": "python",
   "pygments_lexer": "ipython3",
   "version": "3.12.3"
  }
 },
 "nbformat": 4,
 "nbformat_minor": 2
}
