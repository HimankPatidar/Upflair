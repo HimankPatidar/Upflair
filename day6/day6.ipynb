{
 "cells": [
  {
   "cell_type": "markdown",
   "metadata": {},
   "source": [
    "Built in Module"
   ]
  },
  {
   "cell_type": "code",
   "execution_count": 28,
   "metadata": {},
   "outputs": [
    {
     "name": "stdout",
     "output_type": "stream",
     "text": [
      "c:\\Users\\patid\\OneDrive\\Desktop\\upflair\\day6\\JECRC\\JECRC\n"
     ]
    },
    {
     "data": {
      "text/plain": [
       "<_io.TextIOWrapper name='s.txt' mode='x' encoding='cp1252'>"
      ]
     },
     "execution_count": 28,
     "metadata": {},
     "output_type": "execute_result"
    }
   ],
   "source": [
    "import os   #os = OPERATING SYSTEM MODULE \n",
    "#print(os.getcwd())      #CWD= CURRENT WORKING DIRECTORY\n",
    "#print(os.listdir())     #LISTS ALL THE FILES IN THE DIRECTORY\n",
    "#print(os.mkdir(\"test\"))       #CREATES A DIRECTORY\n",
    "# print(os.listdir(\"../../upflair\"))   #LISTS ALL THE FILES IN THE DIRECTORY\n",
    "# print(os.rmdir(\"test\"))   # REMOVES THE DIRECTORY\n",
    "# os.rmdir(\"../../../../jecrc\")\n",
    "# os.mkdir(\"test\")\n",
    "\n",
    "# os.makedirs(\"test1/test2/test3\")    #CREATES MULTIPLE DIRECTORIES\n",
    "# os.removedirs(\"test1/test2/test3\")   #REMOVES MULTIPLE DIRECTORIES\n",
    "# os.makedirs(\"JECRC\", exist_ok=True)\n",
    "# # os.rmdir(\"JECRC\")\n",
    "# __path__ar = \"./JECRC\"\n",
    "# os.chdir(__path__ar)\n",
    "# print(os.getcwd())\n",
    "\n",
    "# open(\"s.txt\", \"x\")"
   ]
  },
  {
   "cell_type": "markdown",
   "metadata": {},
   "source": [
    "File Handling"
   ]
  },
  {
   "cell_type": "markdown",
   "metadata": {},
   "source": [
    "file name and mode\n",
    " \n",
    " r = read mode\n",
    " w = write mode\n",
    " a = append mode "
   ]
  },
  {
   "cell_type": "markdown",
   "metadata": {},
   "source": [
    "Write Mode"
   ]
  },
  {
   "cell_type": "code",
   "execution_count": 52,
   "metadata": {},
   "outputs": [
    {
     "data": {
      "text/plain": [
       "11"
      ]
     },
     "execution_count": 52,
     "metadata": {},
     "output_type": "execute_result"
    }
   ],
   "source": [
    "file = open(\"s.txt\", \"w\")\n",
    "data = \"Hello we are from JECRC\"\n",
    "data2 = \"Hello JECRC\"\n",
    "file.write(data2)\n",
    "\n",
    "\n",
    "\n"
   ]
  },
  {
   "cell_type": "markdown",
   "metadata": {},
   "source": [
    "Read Mode"
   ]
  },
  {
   "cell_type": "code",
   "execution_count": 50,
   "metadata": {},
   "outputs": [
    {
     "name": "stdout",
     "output_type": "stream",
     "text": [
      "Hello JECRC\n",
      "Hello we are from JECRC\n",
      "Hello we are from JECRC\n"
     ]
    }
   ],
   "source": [
    "file =  open(\"s.txt\", \"r\")\n",
    "print(file.read())\n",
    "file.close()\n"
   ]
  },
  {
   "cell_type": "markdown",
   "metadata": {},
   "source": [
    "Append Mode\n"
   ]
  },
  {
   "cell_type": "code",
   "execution_count": 51,
   "metadata": {},
   "outputs": [],
   "source": [
    "file = open(\"file.txt\", \"a\")\n",
    "data = \"Hello we are from JECRC \\n\"\n",
    "data2 = \"Hello JECRC\"\n",
    "file.write(data2)\n",
    "file.close()"
   ]
  },
  {
   "cell_type": "markdown",
   "metadata": {},
   "source": [
    "Make folder using Loop"
   ]
  },
  {
   "cell_type": "code",
   "execution_count": 56,
   "metadata": {},
   "outputs": [],
   "source": [
    "for i in range(1,11) :\n",
    "    os.mkdir(f\"folder{i}\")\n",
    "    "
   ]
  },
  {
   "cell_type": "markdown",
   "metadata": {},
   "source": [
    "Remove folder using loop"
   ]
  },
  {
   "cell_type": "code",
   "execution_count": 57,
   "metadata": {},
   "outputs": [],
   "source": [
    "for i in range(1,11):\n",
    "    os.rmdir(f\"folder{i}\")"
   ]
  },
  {
   "cell_type": "code",
   "execution_count": 60,
   "metadata": {},
   "outputs": [
    {
     "name": "stdout",
     "output_type": "stream",
     "text": [
      "File does not exists\n"
     ]
    }
   ],
   "source": [
    "if os.path.exists(\"file3.txt\") :\n",
    "    print(\"File exists\")\n",
    "else :\n",
    "    print(\"File does not exists\")    "
   ]
  },
  {
   "cell_type": "markdown",
   "metadata": {},
   "source": [
    "Write data Function"
   ]
  },
  {
   "cell_type": "code",
   "execution_count": 55,
   "metadata": {},
   "outputs": [
    {
     "name": "stdout",
     "output_type": "stream",
     "text": [
      "12\n"
     ]
    }
   ],
   "source": [
    "def file_data() :\n",
    "    file = open(\"file1.txt\" , \"w\")\n",
    "    data = \"Hello WORLDX\"\n",
    "    printdata =  file.write(data)\n",
    "    print(printdata)  \n",
    "    file.close()\n",
    "\n",
    "\n",
    "file_data()"
   ]
  },
  {
   "cell_type": "code",
   "execution_count": 61,
   "metadata": {},
   "outputs": [],
   "source": [
    "if os.path.exists(\"file3.txt\") :\n",
    "    print(\"File exists\")\n",
    "else :\n",
    "    file = open(\"file3.txt\", \"w\")\n",
    "    data = \"Hello WORLD\"\n",
    "    file.write(data)\n",
    "    file.close()"
   ]
  },
  {
   "cell_type": "code",
   "execution_count": 73,
   "metadata": {},
   "outputs": [
    {
     "data": {
      "text/plain": [
       "'c:\\\\Users\\\\patid\\\\OneDrive\\\\Desktop\\\\upflair\\\\day6\\\\JECRC\\\\JECRC\\\\file4.txt'"
      ]
     },
     "execution_count": 73,
     "metadata": {},
     "output_type": "execute_result"
    }
   ],
   "source": [
    "os.path.join(\"../Assignment-1\" , \"file3.txt\")\n",
    "\n",
    "\n",
    "os.path.join(os.getcwd() , \"file4.txt\")"
   ]
  },
  {
   "cell_type": "code",
   "execution_count": 1,
   "metadata": {},
   "outputs": [
    {
     "name": "stdout",
     "output_type": "stream",
     "text": [
      "HelloHelloHello\n"
     ]
    }
   ],
   "source": [
    "print(\"Hello\" * 3)"
   ]
  }
 ],
 "metadata": {
  "kernelspec": {
   "display_name": "Python 3",
   "language": "python",
   "name": "python3"
  },
  "language_info": {
   "codemirror_mode": {
    "name": "ipython",
    "version": 3
   },
   "file_extension": ".py",
   "mimetype": "text/x-python",
   "name": "python",
   "nbconvert_exporter": "python",
   "pygments_lexer": "ipython3",
   "version": "3.12.3"
  }
 },
 "nbformat": 4,
 "nbformat_minor": 2
}
