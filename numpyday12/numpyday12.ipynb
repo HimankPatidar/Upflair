{
 "cells": [
  {
   "cell_type": "markdown",
   "metadata": {},
   "source": [
    "3Dimensional Array"
   ]
  },
  {
   "cell_type": "code",
   "execution_count": 1,
   "metadata": {},
   "outputs": [],
   "source": [
    "import numpy as np"
   ]
  },
  {
   "cell_type": "code",
   "execution_count": 13,
   "metadata": {},
   "outputs": [
    {
     "name": "stdout",
     "output_type": "stream",
     "text": [
      "[[[42 42 42 42 42]\n",
      "  [42 42 42 42 42]\n",
      "  [42 42 42 42 42]\n",
      "  [42 42 42 42 42]]\n",
      "\n",
      " [[42 42 42 42 42]\n",
      "  [42 42 42 42 42]\n",
      "  [42 42 42 42 42]\n",
      "  [42 42 42 42 42]]\n",
      "\n",
      " [[42 42 42 42 42]\n",
      "  [42 42 42 42 42]\n",
      "  [42 42 42 42 42]\n",
      "  [42 42 42 42 42]]]\n"
     ]
    }
   ],
   "source": [
    "arr = np.full((3, 4, 5), 42)\n",
    "print(arr)"
   ]
  },
  {
   "cell_type": "code",
   "execution_count": 7,
   "metadata": {},
   "outputs": [
    {
     "data": {
      "text/plain": [
       "array([[42, 42, 42, 42, 42],\n",
       "       [42, 42, 42, 42, 42],\n",
       "       [42, 42, 42, 42, 42],\n",
       "       [42, 42, 42, 42, 42]])"
      ]
     },
     "execution_count": 7,
     "metadata": {},
     "output_type": "execute_result"
    }
   ],
   "source": [
    "arr[1]"
   ]
  },
  {
   "cell_type": "code",
   "execution_count": 10,
   "metadata": {},
   "outputs": [
    {
     "data": {
      "text/plain": [
       "3"
      ]
     },
     "execution_count": 10,
     "metadata": {},
     "output_type": "execute_result"
    }
   ],
   "source": [
    "arr.ndim"
   ]
  },
  {
   "cell_type": "code",
   "execution_count": 14,
   "metadata": {},
   "outputs": [
    {
     "data": {
      "text/plain": [
       "array([[42, 42, 42, 42, 42],\n",
       "       [42, 42, 42, 42, 42],\n",
       "       [42, 42, 42, 42, 42],\n",
       "       [42, 42, 42, 42, 42]])"
      ]
     },
     "execution_count": 14,
     "metadata": {},
     "output_type": "execute_result"
    }
   ],
   "source": [
    "arr[1]"
   ]
  },
  {
   "cell_type": "code",
   "execution_count": 16,
   "metadata": {},
   "outputs": [
    {
     "data": {
      "text/plain": [
       "array([[[42, 42, 42, 42, 42],\n",
       "        [42, 42, 42, 42, 42],\n",
       "        [42, 42, 42, 42, 42],\n",
       "        [42, 42, 42, 42, 42]]])"
      ]
     },
     "execution_count": 16,
     "metadata": {},
     "output_type": "execute_result"
    }
   ],
   "source": [
    "arr[1:2:1]"
   ]
  },
  {
   "cell_type": "code",
   "execution_count": 17,
   "metadata": {},
   "outputs": [
    {
     "data": {
      "text/plain": [
       "array([42, 42, 42, 42, 42])"
      ]
     },
     "execution_count": 17,
     "metadata": {},
     "output_type": "execute_result"
    }
   ],
   "source": [
    "arr[1,-1]"
   ]
  },
  {
   "cell_type": "code",
   "execution_count": 18,
   "metadata": {},
   "outputs": [
    {
     "data": {
      "text/plain": [
       "42"
      ]
     },
     "execution_count": 18,
     "metadata": {},
     "output_type": "execute_result"
    }
   ],
   "source": [
    "arr[1,-1,2]"
   ]
  },
  {
   "cell_type": "code",
   "execution_count": 19,
   "metadata": {},
   "outputs": [
    {
     "data": {
      "text/plain": [
       "array([[[42, 42, 42, 42, 42],\n",
       "        [42, 42, 42, 42, 42],\n",
       "        [42, 42, 42, 42, 42],\n",
       "        [42, 42, 42, 42, 42]],\n",
       "\n",
       "       [[42, 42, 42, 42, 42],\n",
       "        [42, 42, 42, 42, 42],\n",
       "        [42, 42, 42, 42, 42],\n",
       "        [42, 42, 42, 42, 42]],\n",
       "\n",
       "       [[42, 42, 42, 42, 42],\n",
       "        [42, 42, 42, 42, 42],\n",
       "        [42, 42, 42, 42, 42],\n",
       "        [42, 42, 42, 42, 42]]])"
      ]
     },
     "execution_count": 19,
     "metadata": {},
     "output_type": "execute_result"
    }
   ],
   "source": [
    "arr[::-1]"
   ]
  },
  {
   "cell_type": "code",
   "execution_count": 28,
   "metadata": {},
   "outputs": [
    {
     "name": "stdout",
     "output_type": "stream",
     "text": [
      "[[[ 1  2  3]\n",
      "  [ 4  5  6]\n",
      "  [ 7  8  9]\n",
      "  [10 11 12]]]\n"
     ]
    }
   ],
   "source": [
    "arr2 = np.array([[[1,2,3], \n",
    "                  [4,5,6],\n",
    "                  [7,8,9],\n",
    "                  [10,11,12]\n",
    "                  ]],\n",
    "                  )\n",
    "\n",
    "print(arr2)"
   ]
  },
  {
   "cell_type": "code",
   "execution_count": 29,
   "metadata": {},
   "outputs": [
    {
     "data": {
      "text/plain": [
       "array([[42, 42, 42, 42, 42],\n",
       "       [42, 42, 42, 42, 42],\n",
       "       [42, 42, 42, 42, 42],\n",
       "       [42, 42, 42, 42, 42]])"
      ]
     },
     "execution_count": 29,
     "metadata": {},
     "output_type": "execute_result"
    }
   ],
   "source": [
    "arr[1]"
   ]
  },
  {
   "cell_type": "code",
   "execution_count": 31,
   "metadata": {},
   "outputs": [
    {
     "data": {
      "text/plain": [
       "array([[42, 42, 42, 42, 42],\n",
       "       [42, 42, 42, 42, 42]])"
      ]
     },
     "execution_count": 31,
     "metadata": {},
     "output_type": "execute_result"
    }
   ],
   "source": [
    "arr[-1,2:4,]"
   ]
  },
  {
   "cell_type": "code",
   "execution_count": 32,
   "metadata": {},
   "outputs": [
    {
     "data": {
      "text/plain": [
       "array([[42, 42],\n",
       "       [42, 42]])"
      ]
     },
     "execution_count": 32,
     "metadata": {},
     "output_type": "execute_result"
    }
   ],
   "source": [
    "arr[-1,2:4,2:4]"
   ]
  },
  {
   "cell_type": "code",
   "execution_count": 33,
   "metadata": {},
   "outputs": [
    {
     "name": "stdout",
     "output_type": "stream",
     "text": [
      "[[[20 67 92 12 38]\n",
      "  [51 84 97  8 81]\n",
      "  [40 21 48  6 90]\n",
      "  [85 98 62 41 60]]\n",
      "\n",
      " [[91 94  2 88  9]\n",
      "  [22  6 22 49 96]\n",
      "  [91 63 45 56  9]\n",
      "  [48 79 46 14 60]]\n",
      "\n",
      " [[14 77 48 82 64]\n",
      "  [90 57 45 63 23]\n",
      "  [16 50 74 60 31]\n",
      "  [89 45 31  9 52]]]\n"
     ]
    }
   ],
   "source": [
    "arr = np.random.randint(1, 100, (3, 4, 5))\n",
    "print(arr)"
   ]
  },
  {
   "cell_type": "code",
   "execution_count": 35,
   "metadata": {},
   "outputs": [
    {
     "data": {
      "text/plain": [
       "array([[60, 31],\n",
       "       [ 9, 52]])"
      ]
     },
     "execution_count": 35,
     "metadata": {},
     "output_type": "execute_result"
    }
   ],
   "source": [
    "arr[-1,2:4,3:5]"
   ]
  },
  {
   "cell_type": "code",
   "execution_count": 37,
   "metadata": {},
   "outputs": [
    {
     "name": "stdout",
     "output_type": "stream",
     "text": [
      "[[[20 67 92 12 38]\n",
      "  [51 84 97  8 81]\n",
      "  [40 21 48  6 90]\n",
      "  [85 98 62 41 60]]\n",
      "\n",
      " [[91 94  2 88  9]\n",
      "  [22  6 22 49 96]\n",
      "  [91 63 45 56  9]\n",
      "  [48 79 46 14 60]]\n",
      "\n",
      " [[14 77 48 82 64]\n",
      "  [90 57 45 63 23]\n",
      "  [16 50 74 60 31]\n",
      "  [89 45 31  9 52]]]\n"
     ]
    }
   ],
   "source": [
    "\n",
    "\n",
    "arr = np.array([[[20, 67, 92, 12, 38],\n",
    "                [51, 84, 97, 8, 81],\n",
    "                [40, 21, 48, 6, 90],\n",
    "                [85, 98, 62, 41, 60]],\n",
    "\n",
    "               [[91, 94, 2, 88, 9],\n",
    "                [22, 6, 22, 49, 96],\n",
    "                [91, 63, 45, 56, 9],\n",
    "                [48, 79, 46, 14, 60]],\n",
    "\n",
    "               [[14, 77, 48, 82, 64],\n",
    "                [90, 57, 45, 63, 23],\n",
    "                [16, 50, 74, 60, 31],\n",
    "                [89, 45, 31, 9, 52]]])\n",
    "print(arr)"
   ]
  },
  {
   "cell_type": "code",
   "execution_count": 38,
   "metadata": {},
   "outputs": [
    {
     "data": {
      "text/plain": [
       "array([[60, 31],\n",
       "       [ 9, 52]])"
      ]
     },
     "execution_count": 38,
     "metadata": {},
     "output_type": "execute_result"
    }
   ],
   "source": [
    "arr[-1,2:4,3:5]"
   ]
  },
  {
   "cell_type": "code",
   "execution_count": 45,
   "metadata": {},
   "outputs": [
    {
     "data": {
      "text/plain": [
       "array([[[20, 67, 92, 12, 38]],\n",
       "\n",
       "       [[91, 94,  2, 88,  9]],\n",
       "\n",
       "       [[14, 77, 48, 82, 64]]])"
      ]
     },
     "execution_count": 45,
     "metadata": {},
     "output_type": "execute_result"
    }
   ],
   "source": [
    "arr[0:3,0:1]"
   ]
  },
  {
   "cell_type": "code",
   "execution_count": 47,
   "metadata": {},
   "outputs": [
    {
     "data": {
      "text/plain": [
       "array([[[20]],\n",
       "\n",
       "       [[91]],\n",
       "\n",
       "       [[14]]])"
      ]
     },
     "execution_count": 47,
     "metadata": {},
     "output_type": "execute_result"
    }
   ],
   "source": [
    "arr[0:3,0:1,0:1]"
   ]
  },
  {
   "cell_type": "code",
   "execution_count": 48,
   "metadata": {},
   "outputs": [
    {
     "data": {
      "text/plain": [
       "array([[60, 31],\n",
       "       [ 9, 52]])"
      ]
     },
     "execution_count": 48,
     "metadata": {},
     "output_type": "execute_result"
    }
   ],
   "source": [
    "arr[-1,2:4,3:5]"
   ]
  },
  {
   "cell_type": "code",
   "execution_count": 53,
   "metadata": {},
   "outputs": [
    {
     "data": {
      "text/plain": [
       "array([[[67, 92],\n",
       "        [84, 97]],\n",
       "\n",
       "       [[94,  2],\n",
       "        [ 6, 22]],\n",
       "\n",
       "       [[77, 48],\n",
       "        [57, 45]]])"
      ]
     },
     "execution_count": 53,
     "metadata": {},
     "output_type": "execute_result"
    }
   ],
   "source": [
    "arr[0:3,0:2,1:3]"
   ]
  },
  {
   "cell_type": "code",
   "execution_count": 55,
   "metadata": {},
   "outputs": [
    {
     "name": "stdout",
     "output_type": "stream",
     "text": [
      "[[[16 79 63 47 11]\n",
      "  [39  2 10 59 68]\n",
      "  [ 4 22 96 64 26]\n",
      "  [71 81 40 36 33]\n",
      "  [97 53 31 80 25]]\n",
      "\n",
      " [[47 20 31  3 52]\n",
      "  [65 79 51 15 58]\n",
      "  [93 79 31 25 98]\n",
      "  [95  1 82 53 60]\n",
      "  [59 60 11 70 60]]\n",
      "\n",
      " [[41 24 91 37 83]\n",
      "  [38 67 78  6 45]\n",
      "  [73 20 36 58 41]\n",
      "  [26 85 85 43 44]\n",
      "  [45 85 10 71 78]]\n",
      "\n",
      " [[50 19 11 71 29]\n",
      "  [66 99 85  5 59]\n",
      "  [43 79 94 37 12]\n",
      "  [86 25  9 35 79]\n",
      "  [90 13 45 49 39]]]\n"
     ]
    }
   ],
   "source": [
    "arr4 =  np.random.randint(1,100,(4,5,5))\n",
    "print(arr4)"
   ]
  },
  {
   "cell_type": "code",
   "execution_count": 97,
   "metadata": {},
   "outputs": [
    {
     "name": "stdout",
     "output_type": "stream",
     "text": [
      "[[[ 7 20  9  3 48]\n",
      "  [31 31  8 26 23]\n",
      "  [39  3 23 36 29]\n",
      "  [32 36 39 43  7]\n",
      "  [32  2 12 10 45]]\n",
      "\n",
      " [[ 7 11  9 12 22]\n",
      "  [ 7  8 47 12 16]\n",
      "  [41 39  3 24 14]\n",
      "  [38  1 38 27 12]\n",
      "  [13 49 13  3 25]]\n",
      "\n",
      " [[26  8 48 46  1]\n",
      "  [ 5 23 40  4 17]\n",
      "  [ 9  9 37 17  4]\n",
      "  [26 13  8 20 47]\n",
      "  [ 1 43  1  1 28]]\n",
      "\n",
      " [[12 32 35  6 45]\n",
      "  [47 48  5 30 25]\n",
      "  [32 46 40 37 20]\n",
      "  [40 26 37 24 15]\n",
      "  [10 17 31 37 32]]]\n"
     ]
    }
   ],
   "source": [
    "arr = np.random.randint(1,50, (4,5,5))\n",
    "print(arr)"
   ]
  },
  {
   "cell_type": "code",
   "execution_count": 81,
   "metadata": {},
   "outputs": [
    {
     "name": "stdout",
     "output_type": "stream",
     "text": [
      "(4, 5, 5)\n"
     ]
    },
    {
     "data": {
      "text/plain": [
       "(4, 5, 5)"
      ]
     },
     "execution_count": 81,
     "metadata": {},
     "output_type": "execute_result"
    }
   ],
   "source": [
    "print(arr.shape)\n",
    "\n",
    "arr4.shape"
   ]
  },
  {
   "cell_type": "code",
   "execution_count": 98,
   "metadata": {},
   "outputs": [
    {
     "name": "stdout",
     "output_type": "stream",
     "text": [
      "[[[ 7 20  9  3 48]\n",
      "  [31 31  8 26 23]\n",
      "  [39  3 23 36 29]\n",
      "  [32 36 39 43  7]\n",
      "  [32  2 12 10 45]\n",
      "  [16 79 63 47 11]\n",
      "  [39  2 10 59 68]\n",
      "  [ 4 22 96 64 26]\n",
      "  [71 81 40 36 33]\n",
      "  [97 53 31 80 25]]\n",
      "\n",
      " [[ 7 11  9 12 22]\n",
      "  [ 7  8 47 12 16]\n",
      "  [41 39  3 24 14]\n",
      "  [38  1 38 27 12]\n",
      "  [13 49 13  3 25]\n",
      "  [47 20 31  3 52]\n",
      "  [65 79 51 15 58]\n",
      "  [93 79 31 25 98]\n",
      "  [95  1 82 53 60]\n",
      "  [59 60 11 70 60]]\n",
      "\n",
      " [[26  8 48 46  1]\n",
      "  [ 5 23 40  4 17]\n",
      "  [ 9  9 37 17  4]\n",
      "  [26 13  8 20 47]\n",
      "  [ 1 43  1  1 28]\n",
      "  [41 24 91 37 83]\n",
      "  [38 67 78  6 45]\n",
      "  [73 20 36 58 41]\n",
      "  [26 85 85 43 44]\n",
      "  [45 85 10 71 78]]\n",
      "\n",
      " [[12 32 35  6 45]\n",
      "  [47 48  5 30 25]\n",
      "  [32 46 40 37 20]\n",
      "  [40 26 37 24 15]\n",
      "  [10 17 31 37 32]\n",
      "  [50 19 11 71 29]\n",
      "  [66 99 85  5 59]\n",
      "  [43 79 94 37 12]\n",
      "  [86 25  9 35 79]\n",
      "  [90 13 45 49 39]]]\n"
     ]
    }
   ],
   "source": [
    "arr3 = np.concatenate((arr, arr4), axis=1)\n",
    "\n",
    "print(arr3)\n"
   ]
  },
  {
   "cell_type": "code",
   "execution_count": 99,
   "metadata": {},
   "outputs": [
    {
     "name": "stdout",
     "output_type": "stream",
     "text": [
      "[[[ 10  23  12   6  51]\n",
      "  [ 34  34  11  29  26]\n",
      "  [ 42   6  26  39  32]\n",
      "  [ 35  39  42  46  10]\n",
      "  [ 35   5  15  13  48]\n",
      "  [ 19  82  66  50  14]\n",
      "  [ 42   5  13  62  71]\n",
      "  [  7  25  99  67  29]\n",
      "  [ 74  84  43  39  36]\n",
      "  [100  56  34  83  28]]\n",
      "\n",
      " [[ 10  14  12  15  25]\n",
      "  [ 10  11  50  15  19]\n",
      "  [ 44  42   6  27  17]\n",
      "  [ 41   4  41  30  15]\n",
      "  [ 16  52  16   6  28]\n",
      "  [ 50  23  34   6  55]\n",
      "  [ 68  82  54  18  61]\n",
      "  [ 96  82  34  28 101]\n",
      "  [ 98   4  85  56  63]\n",
      "  [ 62  63  14  73  63]]\n",
      "\n",
      " [[ 29  11  51  49   4]\n",
      "  [  8  26  43   7  20]\n",
      "  [ 12  12  40  20   7]\n",
      "  [ 29  16  11  23  50]\n",
      "  [  4  46   4   4  31]\n",
      "  [ 44  27  94  40  86]\n",
      "  [ 41  70  81   9  48]\n",
      "  [ 76  23  39  61  44]\n",
      "  [ 29  88  88  46  47]\n",
      "  [ 48  88  13  74  81]]\n",
      "\n",
      " [[ 15  35  38   9  48]\n",
      "  [ 50  51   8  33  28]\n",
      "  [ 35  49  43  40  23]\n",
      "  [ 43  29  40  27  18]\n",
      "  [ 13  20  34  40  35]\n",
      "  [ 53  22  14  74  32]\n",
      "  [ 69 102  88   8  62]\n",
      "  [ 46  82  97  40  15]\n",
      "  [ 89  28  12  38  82]\n",
      "  [ 93  16  48  52  42]]]\n"
     ]
    }
   ],
   "source": [
    "arr3+=3\n",
    "print(arr3)"
   ]
  },
  {
   "cell_type": "code",
   "execution_count": 101,
   "metadata": {},
   "outputs": [
    {
     "name": "stdout",
     "output_type": "stream",
     "text": [
      "[[54 46 36 53]\n",
      " [72  9 82 41]\n",
      " [93 94 32 49]]\n"
     ]
    }
   ],
   "source": [
    "arr5 = np.random.randint(1,100,(3,4))\n",
    "print(arr5)"
   ]
  },
  {
   "cell_type": "code",
   "execution_count": 102,
   "metadata": {},
   "outputs": [
    {
     "name": "stdout",
     "output_type": "stream",
     "text": [
      "[[58 32 97 79]\n",
      " [69 39 35 24]\n",
      " [67 53 61 18]]\n"
     ]
    },
    {
     "data": {
      "text/plain": [
       "2"
      ]
     },
     "execution_count": 102,
     "metadata": {},
     "output_type": "execute_result"
    }
   ],
   "source": [
    "arr6 = np.random.randint(1,100,(3,4))\n",
    "print(arr6)\n",
    "arr6.ndim"
   ]
  },
  {
   "cell_type": "code",
   "execution_count": 104,
   "metadata": {},
   "outputs": [
    {
     "name": "stdout",
     "output_type": "stream",
     "text": [
      "[[112  78 133 132]\n",
      " [141  48 117  65]\n",
      " [160 147  93  67]]\n"
     ]
    }
   ],
   "source": [
    "arr7 = arr5+arr6\n",
    "print(arr7)\n"
   ]
  },
  {
   "cell_type": "code",
   "execution_count": 106,
   "metadata": {},
   "outputs": [
    {
     "name": "stdout",
     "output_type": "stream",
     "text": [
      "[ 5 43 14 94 95 38 67 73 78 34 49 98 41 18 57  9 83 25 41 69 86 32 75 76\n",
      " 39 37 40 51 51  9 22 92 24 89 84 86 63 31 15 29]\n"
     ]
    }
   ],
   "source": [
    "arr8 = np.random.randint(1,100,40)\n",
    "print(arr8)"
   ]
  },
  {
   "cell_type": "code",
   "execution_count": 113,
   "metadata": {},
   "outputs": [
    {
     "data": {
      "text/plain": [
       "array([[ 78, 112, 132, 133],\n",
       "       [ 48,  65, 117, 141],\n",
       "       [ 67,  93, 147, 160]])"
      ]
     },
     "execution_count": 113,
     "metadata": {},
     "output_type": "execute_result"
    }
   ],
   "source": [
    "np.sort(arr7)"
   ]
  },
  {
   "cell_type": "code",
   "execution_count": 117,
   "metadata": {},
   "outputs": [
    {
     "data": {
      "text/plain": [
       "array([[ 78, 112, 132, 133],\n",
       "       [ 48,  65, 117, 141],\n",
       "       [ 67,  93, 147, 160]])"
      ]
     },
     "execution_count": 117,
     "metadata": {},
     "output_type": "execute_result"
    }
   ],
   "source": [
    "np.sort(arr7, kind=\"mergesort\")"
   ]
  },
  {
   "cell_type": "code",
   "execution_count": 118,
   "metadata": {},
   "outputs": [
    {
     "data": {
      "text/plain": [
       "48"
      ]
     },
     "execution_count": 118,
     "metadata": {},
     "output_type": "execute_result"
    }
   ],
   "source": [
    "arr7.min()"
   ]
  },
  {
   "cell_type": "code",
   "execution_count": 124,
   "metadata": {
    "vscode": {
     "languageId": "markdown"
    }
   },
   "outputs": [
    {
     "data": {
      "text/plain": [
       "5"
      ]
     },
     "execution_count": 124,
     "metadata": {},
     "output_type": "execute_result"
    }
   ],
   "source": [
    "np.argmin(arr7)"
   ]
  },
  {
   "cell_type": "code",
   "execution_count": 130,
   "metadata": {
    "vscode": {
     "languageId": "markdown"
    }
   },
   "outputs": [
    {
     "name": "stdout",
     "output_type": "stream",
     "text": [
      "[[112  78 133 132]\n",
      " [141  48 117  65]\n",
      " [160 147  93  67]]\n",
      "160\n",
      "8\n"
     ]
    }
   ],
   "source": [
    "print(arr7)\n",
    "print(arr7.max())\n",
    "\n",
    "r = np.argmax(arr7)\n",
    "print(r)"
   ]
  },
  {
   "cell_type": "code",
   "execution_count": 131,
   "metadata": {
    "vscode": {
     "languageId": "markdown"
    }
   },
   "outputs": [
    {
     "name": "stdout",
     "output_type": "stream",
     "text": [
      "[57 55 12 40 82 40  8 76 36 23 60 99 29 28 73 72 12 16 15 64 28 91 96 49\n",
      " 22 11 76 20 98 94 68 27 93 50 33 17 91 88 53 31]\n"
     ]
    }
   ],
   "source": [
    "arr8 = np.random.randint(1,100,40)\n",
    "print(arr8)"
   ]
  },
  {
   "cell_type": "code",
   "execution_count": 133,
   "metadata": {
    "vscode": {
     "languageId": "markdown"
    }
   },
   "outputs": [
    {
     "name": "stdout",
     "output_type": "stream",
     "text": [
      "[57 55 12 40 82 40  8 76 36 23 60 99 29 28 73 72 12 16 15 64 28 91 96 49\n",
      " 22 11 76 20 98 94 68 27 93 50 33 17 91 88 53 31]\n",
      "99\n",
      "11\n"
     ]
    }
   ],
   "source": [
    "print(arr8)\n",
    "print(arr8.max())\n",
    "\n",
    "r = np.argmax(arr8)\n",
    "print(r)"
   ]
  }
 ],
 "metadata": {
  "kernelspec": {
   "display_name": "Python 3",
   "language": "python",
   "name": "python3"
  },
  "language_info": {
   "codemirror_mode": {
    "name": "ipython",
    "version": 3
   },
   "file_extension": ".py",
   "mimetype": "text/x-python",
   "name": "python",
   "nbconvert_exporter": "python",
   "pygments_lexer": "ipython3",
   "version": "3.12.3"
  }
 },
 "nbformat": 4,
 "nbformat_minor": 2
}
