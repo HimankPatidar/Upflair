{
 "cells": [
  {
   "cell_type": "markdown",
   "metadata": {},
   "source": [
    "Exception Handling"
   ]
  },
  {
   "cell_type": "code",
   "execution_count": 1,
   "metadata": {},
   "outputs": [
    {
     "name": "stdout",
     "output_type": "stream",
     "text": [
      "Hi! R=ioy\n"
     ]
    }
   ],
   "source": [
    "name = input(\"Enter your firat Name : \")\n",
    "print(\"Hi!\" , name)"
   ]
  },
  {
   "cell_type": "markdown",
   "metadata": {},
   "source": [
    "Error\n"
   ]
  },
  {
   "cell_type": "code",
   "execution_count": 13,
   "metadata": {},
   "outputs": [
    {
     "name": "stdout",
     "output_type": "stream",
     "text": [
      "Hi! 98\n"
     ]
    }
   ],
   "source": [
    "name = int(input(\"Enter your first Name : \"))\n",
    "print(\"Hi!\" , name)"
   ]
  },
  {
   "cell_type": "markdown",
   "metadata": {},
   "source": [
    "Exception Handling -- to avoid the error at run time and to handle the error at compile time\n",
    "\n",
    "try, except, else , finally -- to handle the error at compile time"
   ]
  },
  {
   "cell_type": "code",
   "execution_count": 17,
   "metadata": {},
   "outputs": [
    {
     "name": "stdout",
     "output_type": "stream",
     "text": [
      "Welcome Back!!!\n",
      "Hi! 43\n",
      "Error is not occured\n",
      "This will always run\n",
      "Still running\n"
     ]
    }
   ],
   "source": [
    "try :\n",
    "    print(\"Welcome Back!!!\")\n",
    "    name = int(input(\"Enter your first Name : \"))\n",
    "    print(\"Hi!\" , name)\n",
    "\n",
    "except Exception as e:\n",
    "    print(\"Please enter a valid name\")\n",
    "\n",
    "else : \n",
    "    print(\"Error is not occured\")\n",
    "\n",
    "finally:\n",
    "    print(\"This will always run\")\n",
    "\n",
    "print(\"Still running\")"
   ]
  },
  {
   "cell_type": "markdown",
   "metadata": {},
   "source": [
    "Errors"
   ]
  },
  {
   "cell_type": "code",
   "execution_count": 23,
   "metadata": {},
   "outputs": [
    {
     "name": "stdout",
     "output_type": "stream",
     "text": [
      "0.0\n"
     ]
    }
   ],
   "source": [
    "try :\n",
    "    num1 = int(input(\"Enter a number : \"))\n",
    "    num2 = int(input(\"Enter another number : \"))\n",
    "\n",
    "    result = num1 / num2\n",
    "    print(result)\n",
    "\n",
    "except ZeroDivisionError as e:\n",
    "    print(\"Can't divide by zero\")\n",
    "\n",
    "except ValueError as e :\n",
    "    print(\"Invalid Input\")\n",
    "\n"
   ]
  },
  {
   "cell_type": "code",
   "execution_count": 25,
   "metadata": {},
   "outputs": [
    {
     "name": "stdout",
     "output_type": "stream",
     "text": [
      "Enter a valid variable name\n"
     ]
    }
   ],
   "source": [
    "try :\n",
    "    num = 100\n",
    "    print(numm)\n",
    "except NameError as e:\n",
    "    print(\"Enter a valid variable name\")    "
   ]
  }
 ],
 "metadata": {
  "kernelspec": {
   "display_name": "Python 3",
   "language": "python",
   "name": "python3"
  },
  "language_info": {
   "codemirror_mode": {
    "name": "ipython",
    "version": 3
   },
   "file_extension": ".py",
   "mimetype": "text/x-python",
   "name": "python",
   "nbconvert_exporter": "python",
   "pygments_lexer": "ipython3",
   "version": "3.12.3"
  }
 },
 "nbformat": 4,
 "nbformat_minor": 2
}
