{
 "cells": [
  {
   "cell_type": "markdown",
   "metadata": {},
   "source": [
    "Email Sender"
   ]
  },
  {
   "cell_type": "code",
   "execution_count": 10,
   "metadata": {},
   "outputs": [
    {
     "name": "stdout",
     "output_type": "stream",
     "text": [
      "Email has been sent successfully\n"
     ]
    }
   ],
   "source": [
    "import smtplib\n",
    "\n",
    "try :\n",
    "    \n",
    "    server = smtplib.SMTP(host =\"smtp.gmail.com\",port= 587)\n",
    "    server.starttls()\n",
    "    SENDER_email = \"patidarhimank004@gmail.com\"\n",
    "    SENDER_password = \"YOUR PASS WORD HERE\"  #password of sender email 16 digit APP PASSWORD \n",
    "\n",
    "    RECIEVER_email = input(\"Enter the email of reciever : \")\n",
    "    Subject = input(\"Enter the subject of email : \")\n",
    "    body = input(\"Enter the body of email : \")\n",
    "\n",
    "    \n",
    "    server.login(SENDER_email, SENDER_password)\n",
    "\n",
    "    message = \"Subject : {}\\n\\n{}\".format(Subject, body)\n",
    "\n",
    "    server.sendmail(SENDER_email, RECIEVER_email, message)\n",
    "    print(\"Email has been sent successfully\")\n",
    "    server.quit()\n",
    "\n",
    "\n",
    "  \n",
    "except Exception as e :\n",
    "    print(\"Error :\", e) \n",
    "\n"
   ]
  }
 ],
 "metadata": {
  "kernelspec": {
   "display_name": "Python 3",
   "language": "python",
   "name": "python3"
  },
  "language_info": {
   "codemirror_mode": {
    "name": "ipython",
    "version": 3
   },
   "file_extension": ".py",
   "mimetype": "text/x-python",
   "name": "python",
   "nbconvert_exporter": "python",
   "pygments_lexer": "ipython3",
   "version": "3.12.3"
  }
 },
 "nbformat": 4,
 "nbformat_minor": 2
}
