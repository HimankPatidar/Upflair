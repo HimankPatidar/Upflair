{
 "cells": [
  {
   "cell_type": "markdown",
   "metadata": {},
   "source": [
    "OBJECT ORIENTED PROGRAMMING"
   ]
  },
  {
   "cell_type": "markdown",
   "metadata": {},
   "source": [
    "CLASS - Class is the blueprint of Object "
   ]
  },
  {
   "cell_type": "code",
   "execution_count": 6,
   "metadata": {},
   "outputs": [
    {
     "name": "stdout",
     "output_type": "stream",
     "text": [
      "Student Name :  John\n",
      "Student Name :  Jay\n",
      "Student Age :  17\n",
      "Student subject :  ['DBMS', 'DCN', 'DMS']\n"
     ]
    }
   ],
   "source": [
    "class Student :\n",
    "    def __init__(self) :\n",
    "        self.name = \"John\"\n",
    "        self.age = 17\n",
    "        self.sub= [\"DBMS\", \"DCN\", \"DMS\"]\n",
    "\n",
    "Student.obj = Student()\n",
    "Student.obj2 = Student()\n",
    "Student.obj2.name = \"Jay\"\n",
    "\n",
    "print(\"Student Name : \", Student.obj.name)\n",
    "print(\"Student Name : \", Student.obj2.name)\n",
    "print(\"Student Age : \" ,Student.obj.age)\n",
    "print(\"Student subject : \" ,Student.obj.sub)\n",
    "\n",
    "\n"
   ]
  },
  {
   "cell_type": "code",
   "execution_count": 14,
   "metadata": {},
   "outputs": [
    {
     "name": "stdout",
     "output_type": "stream",
     "text": [
      "Student Name :  Rohit\n",
      "Student Name :  Jay\n",
      "Student Age :  23\n",
      "Student Age :  21\n",
      "Student Sub :  DBMS\n",
      "Student Sub :  DCN\n"
     ]
    }
   ],
   "source": [
    "class Student :\n",
    "    def __init__(self, name, age, sub) :\n",
    "        self.name = name\n",
    "        self.age = age\n",
    "        self.sub= sub\n",
    "        # print(\"I am executed\")\n",
    "\n",
    "Student.obj = Student(\"Rohit\", 23, \"DBMS\")\n",
    "Student.obj2 = Student(\"Jay\", 21, \"DCN\")\n",
    "\n",
    "print(\"Student Name : \", Student.obj.name)\n",
    "print(\"Student Name : \", Student.obj2.name)\n",
    "print(\"Student Age : \", Student.obj.age)\n",
    "print(\"Student Age : \", Student.obj2.age)\n",
    "print(\"Student Sub : \", Student.obj.sub)\n",
    "print(\"Student Sub : \", Student.obj2.sub)\n",
    "\n"
   ]
  },
  {
   "cell_type": "markdown",
   "metadata": {},
   "source": [
    "Method"
   ]
  },
  {
   "cell_type": "code",
   "execution_count": 25,
   "metadata": {},
   "outputs": [
    {
     "name": "stdout",
     "output_type": "stream",
     "text": [
      "Name :  Rohit\n",
      "Age :  23\n",
      "Sub :  DBMS\n",
      "Name :  Jay\n",
      "Age :  21\n",
      "Sub :  DCN\n"
     ]
    }
   ],
   "source": [
    "class Student :\n",
    "    def __init__(self, name, age, sub) :\n",
    "        self.name = name\n",
    "        self.age = age\n",
    "        self.sub= sub\n",
    "        # print(\"I am executed\")\n",
    "\n",
    "    def display(self) :\n",
    "        print(\"Name : \", self.name) \n",
    "        print(\"Age : \", self.age) \n",
    "        print(\"Sub : \", self.sub) \n",
    "\n",
    "\n",
    "Student_obj = Student(\"Rohit\", 23, \"DBMS\")\n",
    "Student_obj2 = Student(\"Jay\", 21, \"DCN\")\n",
    "\n",
    "Student_obj.display()\n",
    "Student_obj2.display()\n",
    "\n"
   ]
  },
  {
   "cell_type": "code",
   "execution_count": null,
   "metadata": {},
   "outputs": [],
   "source": []
  }
 ],
 "metadata": {
  "kernelspec": {
   "display_name": "Python 3",
   "language": "python",
   "name": "python3"
  },
  "language_info": {
   "codemirror_mode": {
    "name": "ipython",
    "version": 3
   },
   "file_extension": ".py",
   "mimetype": "text/x-python",
   "name": "python",
   "nbconvert_exporter": "python",
   "pygments_lexer": "ipython3",
   "version": "3.12.3"
  }
 },
 "nbformat": 4,
 "nbformat_minor": 2
}
